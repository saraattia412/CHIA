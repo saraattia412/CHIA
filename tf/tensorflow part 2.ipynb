{
 "cells": [
  {
   "cell_type": "markdown",
   "id": "a8590fa1",
   "metadata": {},
   "source": [
    "# sara attia abdel hamid"
   ]
  },
  {
   "cell_type": "code",
   "execution_count": 1,
   "id": "2ade8f9a",
   "metadata": {},
   "outputs": [],
   "source": [
    " #Model Building,Stacking a Model (tf.keras.Sequential)"
   ]
  },
  {
   "cell_type": "code",
   "execution_count": null,
   "id": "5d7dbc36",
   "metadata": {},
   "outputs": [],
   "source": [
    "import tensorflow as tf"
   ]
  },
  {
   "cell_type": "code",
   "execution_count": 19,
   "id": "cb46887a",
   "metadata": {},
   "outputs": [
    {
     "name": "stdout",
     "output_type": "stream",
     "text": [
      "2.1.0\n",
      "2.2.4-tf\n"
     ]
    }
   ],
   "source": [
    "print(tf.__version__)\n",
    "print(tf.keras.__version__)\n",
    "import tensorflow.keras.layers as layers \n",
    "model = tf.keras.Sequential()\n",
    "model.add(layers.Dense(32, activation='relu'))\n",
    "model.add(layers.Dense(32, activation='relu'))\n",
    "model.add(layers.Dense(10, activation='softmax'))\n"
   ]
  },
  {
   "cell_type": "code",
   "execution_count": 20,
   "id": "53f3a4a1",
   "metadata": {},
   "outputs": [
    {
     "name": "stdout",
     "output_type": "stream",
     "text": [
      "Model: \"model_8\"\n",
      "_________________________________________________________________\n",
      "Layer (type)                 Output Shape              Param #   \n",
      "=================================================================\n",
      "input_9 (InputLayer)         [(None, 32)]              0         \n",
      "_________________________________________________________________\n",
      "dense_17 (Dense)             (None, 32)                1056      \n",
      "_________________________________________________________________\n",
      "dense_18 (Dense)             (None, 32)                1056      \n",
      "_________________________________________________________________\n",
      "dense_19 (Dense)             (None, 10)                330       \n",
      "=================================================================\n",
      "Total params: 2,442\n",
      "Trainable params: 2,442\n",
      "Non-trainable params: 0\n",
      "_________________________________________________________________\n"
     ]
    }
   ],
   "source": [
    "# Use the output of the current layer as the input of the next layer.\n",
    "x = tf.keras.Input(shape=(32,))\n",
    "h1 = layers.Dense(32, activation='relu')(x)\n",
    "h2 = layers.Dense(32, activation='relu')(h1)\n",
    "y = layers.Dense(10, activation='softmax')(h2)\n",
    "model_sample_2 = tf.keras.models.Model(x, y)\n",
    "# Print model information.\n",
    "model_sample_2.summary()"
   ]
  },
  {
   "cell_type": "code",
   "execution_count": 21,
   "id": "2816a289",
   "metadata": {},
   "outputs": [
    {
     "data": {
      "text/plain": [
       "<tensorflow.python.keras.layers.core.Dense at 0x28454ff2518>"
      ]
     },
     "execution_count": 21,
     "metadata": {},
     "output_type": "execute_result"
    }
   ],
   "source": [
    "# Create a fully connected layer that contains 32 neurons and set the activation function to sigmoid.\n",
    "# The activation parameter can be set to a function name string, for example, sigmoid, or a function object, for example, tf.sigmoid.\n",
    "layers.Dense(32, activation='sigmoid')\n",
    "layers.Dense(32, activation=tf.sigmoid)\n",
    "# Set kernel_initializer.\n",
    "layers.Dense(32, kernel_initializer=tf.keras.initializers.he_normal)\n",
    "# Set kernel_regularizer to the L2 regularization\n",
    "layers.Dense(32, kernel_regularizer=tf.keras.regularizers.l2(0.01))"
   ]
  },
  {
   "cell_type": "code",
   "execution_count": null,
   "id": "ed9cc6d2",
   "metadata": {},
   "outputs": [],
   "source": []
  },
  {
   "cell_type": "code",
   "execution_count": 22,
   "id": "430b4285",
   "metadata": {},
   "outputs": [
    {
     "data": {
      "text/plain": [
       "<tensorflow.python.keras.layers.convolutional.Conv2D at 0x28455073630>"
      ]
     },
     "execution_count": 22,
     "metadata": {},
     "output_type": "execute_result"
    }
   ],
   "source": [
    "layers.Conv2D(64,[1,1],2,padding='same',activation=\"relu\")\n"
   ]
  },
  {
   "cell_type": "code",
   "execution_count": 23,
   "id": "99c44c23",
   "metadata": {},
   "outputs": [
    {
     "data": {
      "text/plain": [
       "<tensorflow.python.keras.layers.pooling.MaxPooling2D at 0x284550732b0>"
      ]
     },
     "execution_count": 23,
     "metadata": {},
     "output_type": "execute_result"
    }
   ],
   "source": [
    "layers.MaxPooling2D(pool_size=(2,2),strides=(2,1))\n"
   ]
  },
  {
   "cell_type": "code",
   "execution_count": 24,
   "id": "9e7e1a07",
   "metadata": {},
   "outputs": [
    {
     "name": "stdout",
     "output_type": "stream",
     "text": [
      "[[[0.1], [0.2], [0.3]]]\n",
      "output when return_sequences is set to True [[[0.02702456]\n",
      "  [0.07552688]\n",
      "  [0.13632978]]]\n",
      "output when return_sequences is set to False [[-0.00363592]]\n"
     ]
    }
   ],
   "source": [
    "import numpy as np\n",
    "inputs = tf.keras.Input(shape=(3, 1))\n",
    "lstm = layers.LSTM(1, return_sequences=True)(inputs)\n",
    "model_lstm_1 = tf.keras.models.Model(inputs=inputs, outputs=lstm)\n",
    "inputs = tf.keras.Input(shape=(3, 1))\n",
    "lstm = layers.LSTM(1, return_sequences=False)(inputs)\n",
    "model_lstm_2 = tf.keras.models.Model(inputs=inputs, outputs=lstm)\n",
    "# Sequences t1, t2, and t3\n",
    "data = [[[0.1],[0.2],[0.3]]]\n",
    "print(data)\n",
    "print(\"output when return_sequences is set to True\",model_lstm_1.predict(data))\n",
    "print(\"output when return_sequences is set to False\",model_lstm_2.predict(data))"
   ]
  },
  {
   "cell_type": "code",
   "execution_count": 27,
   "id": "3fd2919d",
   "metadata": {},
   "outputs": [],
   "source": [
    "#LSTM\n",
    "tf.keras.layers.LSTM(16, return_sequences=True)\n",
    "#LSTMCell\n",
    "x = tf.keras.Input((None, 3))\n",
    "y = layers.RNN(layers.LSTMCell(16))(x)\n",
    "model_lstm_3= tf.keras.Model(x, y)"
   ]
  },
  {
   "cell_type": "code",
   "execution_count": null,
   "id": "22cab6e2",
   "metadata": {},
   "outputs": [],
   "source": []
  },
  {
   "cell_type": "code",
   "execution_count": 26,
   "id": "21ef9ad4",
   "metadata": {},
   "outputs": [],
   "source": [
    "model = tf.keras.Sequential()\n",
    "model.add(layers.Dense(10, activation='softmax'))\n",
    "# Determine the optimizer, loss function, and model evaluation method (metrics).\n",
    "model.compile(optimizer=tf.keras.optimizers.Adam(0.001),loss=tf.keras.losses.categorical_crossentropy,metrics=[tf.keras.metrics.categorical_accuracy])"
   ]
  },
  {
   "cell_type": "code",
   "execution_count": 28,
   "id": "b67f6dd5",
   "metadata": {},
   "outputs": [
    {
     "name": "stdout",
     "output_type": "stream",
     "text": [
      "Train on 1000 samples, validate on 200 samples\n",
      "Epoch 1/10\n",
      "1000/1000 [==============================] - 1s 754us/sample - loss: 12.6944 - categorical_accuracy: 0.1060 - val_loss: 12.7226 - val_categorical_accuracy: 0.0950\n",
      "Epoch 2/10\n",
      "1000/1000 [==============================] - 0s 28us/sample - loss: 12.6946 - categorical_accuracy: 0.1060 - val_loss: 12.7231 - val_categorical_accuracy: 0.0950\n",
      "Epoch 3/10\n",
      "1000/1000 [==============================] - 0s 28us/sample - loss: 12.6945 - categorical_accuracy: 0.1060 - val_loss: 12.7226 - val_categorical_accuracy: 0.0950\n",
      "Epoch 4/10\n",
      "1000/1000 [==============================] - 0s 30us/sample - loss: 12.6939 - categorical_accuracy: 0.1060 - val_loss: 12.7220 - val_categorical_accuracy: 0.0950\n",
      "Epoch 5/10\n",
      "1000/1000 [==============================] - 0s 31us/sample - loss: 12.6940 - categorical_accuracy: 0.1060 - val_loss: 12.7222 - val_categorical_accuracy: 0.0950\n",
      "Epoch 6/10\n",
      "1000/1000 [==============================] - 0s 27us/sample - loss: 12.6931 - categorical_accuracy: 0.1060 - val_loss: 12.7209 - val_categorical_accuracy: 0.0950\n",
      "Epoch 7/10\n",
      "1000/1000 [==============================] - 0s 29us/sample - loss: 12.6915 - categorical_accuracy: 0.1070 - val_loss: 12.7185 - val_categorical_accuracy: 0.0950\n",
      "Epoch 8/10\n",
      "1000/1000 [==============================] - 0s 27us/sample - loss: 12.6909 - categorical_accuracy: 0.1070 - val_loss: 12.7197 - val_categorical_accuracy: 0.0950\n",
      "Epoch 9/10\n",
      "1000/1000 [==============================] - 0s 31us/sample - loss: 12.6905 - categorical_accuracy: 0.1070 - val_loss: 12.7183 - val_categorical_accuracy: 0.0950\n",
      "Epoch 10/10\n",
      "1000/1000 [==============================] - 0s 31us/sample - loss: 12.6900 - categorical_accuracy: 0.1040 - val_loss: 12.7181 - val_categorical_accuracy: 0.1000\n"
     ]
    },
    {
     "data": {
      "text/plain": [
       "<tensorflow.python.keras.callbacks.History at 0x284564f8cc0>"
      ]
     },
     "execution_count": 28,
     "metadata": {},
     "output_type": "execute_result"
    }
   ],
   "source": [
    "import numpy as np\n",
    "train_x = np.random.random((1000, 36))\n",
    "train_y = np.random.random((1000, 10))\n",
    "val_x = np.random.random((200, 36))\n",
    "val_y = np.random.random((200, 10))\n",
    "model.fit(train_x, train_y, epochs=10, batch_size=100,validation_data=(val_x, val_y))\n"
   ]
  },
  {
   "cell_type": "code",
   "execution_count": 29,
   "id": "005df624",
   "metadata": {},
   "outputs": [
    {
     "name": "stdout",
     "output_type": "stream",
     "text": [
      "Train for 30 steps, validate for 3 steps\n",
      "Epoch 1/10\n",
      "30/30 [==============================] - 1s 20ms/step - loss: 12.6778 - categorical_accuracy: 0.1042 - val_loss: 12.9788 - val_categorical_accuracy: 0.1146\n",
      "Epoch 2/10\n",
      "30/30 [==============================] - 0s 2ms/step - loss: 12.7108 - categorical_accuracy: 0.1058 - val_loss: 12.9753 - val_categorical_accuracy: 0.1250\n",
      "Epoch 3/10\n",
      "30/30 [==============================] - 0s 2ms/step - loss: 12.7156 - categorical_accuracy: 0.1068 - val_loss: 12.9725 - val_categorical_accuracy: 0.1250\n",
      "Epoch 4/10\n",
      "30/30 [==============================] - 0s 2ms/step - loss: 12.6710 - categorical_accuracy: 0.1058 - val_loss: 12.9700 - val_categorical_accuracy: 0.1250\n",
      "Epoch 5/10\n",
      "30/30 [==============================] - 0s 2ms/step - loss: 12.6668 - categorical_accuracy: 0.1079 - val_loss: 12.9682 - val_categorical_accuracy: 0.1250\n",
      "Epoch 6/10\n",
      "30/30 [==============================] - 0s 2ms/step - loss: 12.6843 - categorical_accuracy: 0.1058 - val_loss: 12.9659 - val_categorical_accuracy: 0.1250\n",
      "Epoch 7/10\n",
      "30/30 [==============================] - 0s 2ms/step - loss: 12.7058 - categorical_accuracy: 0.1058 - val_loss: 12.9632 - val_categorical_accuracy: 0.1250\n",
      "Epoch 8/10\n",
      "30/30 [==============================] - 0s 2ms/step - loss: 12.6487 - categorical_accuracy: 0.1058 - val_loss: 12.9604 - val_categorical_accuracy: 0.1250\n",
      "Epoch 9/10\n",
      "30/30 [==============================] - 0s 2ms/step - loss: 12.6617 - categorical_accuracy: 0.1026 - val_loss: 12.9580 - val_categorical_accuracy: 0.1250\n",
      "Epoch 10/10\n",
      "30/30 [==============================] - 0s 2ms/step - loss: 12.6487 - categorical_accuracy: 0.1068 - val_loss: 12.9552 - val_categorical_accuracy: 0.1250\n"
     ]
    },
    {
     "data": {
      "text/plain": [
       "<tensorflow.python.keras.callbacks.History at 0x28458971ef0>"
      ]
     },
     "execution_count": 29,
     "metadata": {},
     "output_type": "execute_result"
    }
   ],
   "source": [
    "dataset = tf.data.Dataset.from_tensor_slices((train_x, train_y))\n",
    "dataset = dataset.batch(32)\n",
    "dataset = dataset.repeat()\n",
    "val_dataset = tf.data.Dataset.from_tensor_slices((val_x, val_y))\n",
    "val_dataset = val_dataset.batch(32)\n",
    "val_dataset = val_dataset.repeat()\n",
    "model.fit(dataset, epochs=10, steps_per_epoch=30,\n",
    " validation_data=val_dataset, validation_steps=3)"
   ]
  },
  {
   "cell_type": "code",
   "execution_count": null,
   "id": "30e0a1a1",
   "metadata": {},
   "outputs": [],
   "source": []
  },
  {
   "cell_type": "code",
   "execution_count": 30,
   "id": "3ed348fd",
   "metadata": {},
   "outputs": [],
   "source": [
    "import os\n",
    "# Set hyperparameters.\n",
    "Epochs = 10\n",
    "logdir=os.path.join(\"logs\")\n",
    "if not os.path.exists(logdir):\n",
    "    os.mkdir(logdir)\n"
   ]
  },
  {
   "cell_type": "code",
   "execution_count": 31,
   "id": "a5848056",
   "metadata": {},
   "outputs": [],
   "source": [
    "# Define a function for dynamically setting the learning rate.\n",
    "def lr_Scheduler(epoch):\n",
    "    if epoch > 0.9 * Epochs:\n",
    "        lr = 0.0001\n",
    "    elif epoch > 0.5 * Epochs:\n",
    "\n",
    "        lr = 0.001\n",
    "    elif epoch > 0.25 * Epochs:\n",
    "        lr = 0.01\n",
    "    else:\n",
    "        lr = 0.1\n",
    "        print(lr)\n",
    "        return lr"
   ]
  },
  {
   "cell_type": "code",
   "execution_count": 35,
   "id": "b74924dd",
   "metadata": {},
   "outputs": [],
   "source": [
    "callbacks = [\n",
    " tf.keras.callbacks.EarlyStopping(monitor='val_loss',min_delta=1e-2,patience=2),\n",
    "    tf.keras.callbacks.ModelCheckpoint(filepath='testmodel_{epoch}.h5',save_best_only=True,monitor='val_loss'),\n",
    "    tf.keras.callbacks.LearningRateScheduler(lr_Scheduler),\n",
    "    tf.keras.callbacks.TensorBoard(log_dir=logdir)]\n"
   ]
  },
  {
   "cell_type": "code",
   "execution_count": 36,
   "id": "3025399b",
   "metadata": {},
   "outputs": [
    {
     "name": "stdout",
     "output_type": "stream",
     "text": [
      "Train on 1000 samples, validate on 200 samples\n",
      "0.1\n",
      "Epoch 1/10\n",
      "1000/1000 [==============================] - 1s 838us/sample - loss: 12.9519 - categorical_accuracy: 0.1060 - val_loss: 12.5188 - val_categorical_accuracy: 0.0950\n",
      "0.1\n",
      "Epoch 2/10\n",
      "1000/1000 [==============================] - 0s 251us/sample - loss: 12.8974 - categorical_accuracy: 0.1130 - val_loss: 12.6002 - val_categorical_accuracy: 0.1050\n",
      "0.1\n",
      "Epoch 3/10\n",
      "1000/1000 [==============================] - 0s 242us/sample - loss: 12.9147 - categorical_accuracy: 0.1040 - val_loss: 12.3818 - val_categorical_accuracy: 0.0900\n"
     ]
    },
    {
     "ename": "ValueError",
     "evalue": "The output of the \"schedule\" function should be float.",
     "output_type": "error",
     "traceback": [
      "\u001b[1;31m---------------------------------------------------------------------------\u001b[0m",
      "\u001b[1;31mValueError\u001b[0m                                Traceback (most recent call last)",
      "\u001b[1;32m<ipython-input-36-e3f0e1460457>\u001b[0m in \u001b[0;36m<module>\u001b[1;34m\u001b[0m\n\u001b[1;32m----> 1\u001b[1;33m \u001b[0mmodel\u001b[0m\u001b[1;33m.\u001b[0m\u001b[0mfit\u001b[0m\u001b[1;33m(\u001b[0m\u001b[0mtrain_x\u001b[0m\u001b[1;33m,\u001b[0m \u001b[0mtrain_y\u001b[0m\u001b[1;33m,\u001b[0m \u001b[0mbatch_size\u001b[0m\u001b[1;33m=\u001b[0m\u001b[1;36m16\u001b[0m\u001b[1;33m,\u001b[0m \u001b[0mepochs\u001b[0m\u001b[1;33m=\u001b[0m\u001b[0mEpochs\u001b[0m\u001b[1;33m,\u001b[0m\u001b[0mcallbacks\u001b[0m\u001b[1;33m=\u001b[0m\u001b[0mcallbacks\u001b[0m\u001b[1;33m,\u001b[0m \u001b[0mvalidation_data\u001b[0m\u001b[1;33m=\u001b[0m\u001b[1;33m(\u001b[0m\u001b[0mval_x\u001b[0m\u001b[1;33m,\u001b[0m \u001b[0mval_y\u001b[0m\u001b[1;33m)\u001b[0m\u001b[1;33m)\u001b[0m\u001b[1;33m\u001b[0m\u001b[0m\n\u001b[0m",
      "\u001b[1;32m~\\anaconda3\\envs\\tf21\\lib\\site-packages\\tensorflow_core\\python\\keras\\engine\\training.py\u001b[0m in \u001b[0;36mfit\u001b[1;34m(self, x, y, batch_size, epochs, verbose, callbacks, validation_split, validation_data, shuffle, class_weight, sample_weight, initial_epoch, steps_per_epoch, validation_steps, validation_freq, max_queue_size, workers, use_multiprocessing, **kwargs)\u001b[0m\n\u001b[0;32m    817\u001b[0m         \u001b[0mmax_queue_size\u001b[0m\u001b[1;33m=\u001b[0m\u001b[0mmax_queue_size\u001b[0m\u001b[1;33m,\u001b[0m\u001b[1;33m\u001b[0m\u001b[0m\n\u001b[0;32m    818\u001b[0m         \u001b[0mworkers\u001b[0m\u001b[1;33m=\u001b[0m\u001b[0mworkers\u001b[0m\u001b[1;33m,\u001b[0m\u001b[1;33m\u001b[0m\u001b[0m\n\u001b[1;32m--> 819\u001b[1;33m         use_multiprocessing=use_multiprocessing)\n\u001b[0m\u001b[0;32m    820\u001b[0m \u001b[1;33m\u001b[0m\u001b[0m\n\u001b[0;32m    821\u001b[0m   def evaluate(self,\n",
      "\u001b[1;32m~\\anaconda3\\envs\\tf21\\lib\\site-packages\\tensorflow_core\\python\\keras\\engine\\training_v2.py\u001b[0m in \u001b[0;36mfit\u001b[1;34m(self, model, x, y, batch_size, epochs, verbose, callbacks, validation_split, validation_data, shuffle, class_weight, sample_weight, initial_epoch, steps_per_epoch, validation_steps, validation_freq, max_queue_size, workers, use_multiprocessing, **kwargs)\u001b[0m\n\u001b[0;32m    318\u001b[0m \u001b[1;33m\u001b[0m\u001b[0m\n\u001b[0;32m    319\u001b[0m           \u001b[1;31m# Training\u001b[0m\u001b[1;33m\u001b[0m\u001b[1;33m\u001b[0m\u001b[0m\n\u001b[1;32m--> 320\u001b[1;33m           \u001b[1;32mwith\u001b[0m \u001b[0mtraining_context\u001b[0m\u001b[1;33m.\u001b[0m\u001b[0mon_epoch\u001b[0m\u001b[1;33m(\u001b[0m\u001b[0mepoch\u001b[0m\u001b[1;33m,\u001b[0m \u001b[0mModeKeys\u001b[0m\u001b[1;33m.\u001b[0m\u001b[0mTRAIN\u001b[0m\u001b[1;33m)\u001b[0m \u001b[1;32mas\u001b[0m \u001b[0mepoch_logs\u001b[0m\u001b[1;33m:\u001b[0m\u001b[1;33m\u001b[0m\u001b[0m\n\u001b[0m\u001b[0;32m    321\u001b[0m             \u001b[0mmodel\u001b[0m\u001b[1;33m.\u001b[0m\u001b[0mreset_metrics\u001b[0m\u001b[1;33m(\u001b[0m\u001b[1;33m)\u001b[0m\u001b[1;33m\u001b[0m\u001b[0m\n\u001b[0;32m    322\u001b[0m             \u001b[1;32mif\u001b[0m \u001b[0mtraining_data_iter\u001b[0m \u001b[1;32mis\u001b[0m \u001b[1;32mNone\u001b[0m \u001b[1;32mor\u001b[0m \u001b[0mrecreate_training_iterator\u001b[0m\u001b[1;33m:\u001b[0m\u001b[1;33m\u001b[0m\u001b[0m\n",
      "\u001b[1;32m~\\anaconda3\\envs\\tf21\\lib\\contextlib.py\u001b[0m in \u001b[0;36m__enter__\u001b[1;34m(self)\u001b[0m\n\u001b[0;32m     79\u001b[0m     \u001b[1;32mdef\u001b[0m \u001b[0m__enter__\u001b[0m\u001b[1;33m(\u001b[0m\u001b[0mself\u001b[0m\u001b[1;33m)\u001b[0m\u001b[1;33m:\u001b[0m\u001b[1;33m\u001b[0m\u001b[0m\n\u001b[0;32m     80\u001b[0m         \u001b[1;32mtry\u001b[0m\u001b[1;33m:\u001b[0m\u001b[1;33m\u001b[0m\u001b[0m\n\u001b[1;32m---> 81\u001b[1;33m             \u001b[1;32mreturn\u001b[0m \u001b[0mnext\u001b[0m\u001b[1;33m(\u001b[0m\u001b[0mself\u001b[0m\u001b[1;33m.\u001b[0m\u001b[0mgen\u001b[0m\u001b[1;33m)\u001b[0m\u001b[1;33m\u001b[0m\u001b[0m\n\u001b[0m\u001b[0;32m     82\u001b[0m         \u001b[1;32mexcept\u001b[0m \u001b[0mStopIteration\u001b[0m\u001b[1;33m:\u001b[0m\u001b[1;33m\u001b[0m\u001b[0m\n\u001b[0;32m     83\u001b[0m             \u001b[1;32mraise\u001b[0m \u001b[0mRuntimeError\u001b[0m\u001b[1;33m(\u001b[0m\u001b[1;34m\"generator didn't yield\"\u001b[0m\u001b[1;33m)\u001b[0m \u001b[1;32mfrom\u001b[0m \u001b[1;32mNone\u001b[0m\u001b[1;33m\u001b[0m\u001b[0m\n",
      "\u001b[1;32m~\\anaconda3\\envs\\tf21\\lib\\site-packages\\tensorflow_core\\python\\keras\\engine\\training_v2.py\u001b[0m in \u001b[0;36mon_epoch\u001b[1;34m(self, epoch, mode)\u001b[0m\n\u001b[0;32m    762\u001b[0m     \u001b[0mepoch_logs\u001b[0m \u001b[1;33m=\u001b[0m \u001b[1;33m{\u001b[0m\u001b[1;33m}\u001b[0m\u001b[1;33m\u001b[0m\u001b[0m\n\u001b[0;32m    763\u001b[0m     \u001b[1;32mif\u001b[0m \u001b[0mmode\u001b[0m \u001b[1;33m==\u001b[0m \u001b[0mModeKeys\u001b[0m\u001b[1;33m.\u001b[0m\u001b[0mTRAIN\u001b[0m\u001b[1;33m:\u001b[0m\u001b[1;33m\u001b[0m\u001b[0m\n\u001b[1;32m--> 764\u001b[1;33m       \u001b[0mself\u001b[0m\u001b[1;33m.\u001b[0m\u001b[0mcallbacks\u001b[0m\u001b[1;33m.\u001b[0m\u001b[0mon_epoch_begin\u001b[0m\u001b[1;33m(\u001b[0m\u001b[0mepoch\u001b[0m\u001b[1;33m,\u001b[0m \u001b[0mepoch_logs\u001b[0m\u001b[1;33m)\u001b[0m\u001b[1;33m\u001b[0m\u001b[0m\n\u001b[0m\u001b[0;32m    765\u001b[0m     \u001b[0mself\u001b[0m\u001b[1;33m.\u001b[0m\u001b[0mprogbar\u001b[0m\u001b[1;33m.\u001b[0m\u001b[0mon_epoch_begin\u001b[0m\u001b[1;33m(\u001b[0m\u001b[0mepoch\u001b[0m\u001b[1;33m,\u001b[0m \u001b[0mepoch_logs\u001b[0m\u001b[1;33m)\u001b[0m\u001b[1;33m\u001b[0m\u001b[0m\n\u001b[0;32m    766\u001b[0m     \u001b[1;32mtry\u001b[0m\u001b[1;33m:\u001b[0m\u001b[1;33m\u001b[0m\u001b[0m\n",
      "\u001b[1;32m~\\anaconda3\\envs\\tf21\\lib\\site-packages\\tensorflow_core\\python\\keras\\callbacks.py\u001b[0m in \u001b[0;36mon_epoch_begin\u001b[1;34m(self, epoch, logs)\u001b[0m\n\u001b[0;32m    284\u001b[0m     \u001b[0mlogs\u001b[0m \u001b[1;33m=\u001b[0m \u001b[0mlogs\u001b[0m \u001b[1;32mor\u001b[0m \u001b[1;33m{\u001b[0m\u001b[1;33m}\u001b[0m\u001b[1;33m\u001b[0m\u001b[0m\n\u001b[0;32m    285\u001b[0m     \u001b[1;32mfor\u001b[0m \u001b[0mcallback\u001b[0m \u001b[1;32min\u001b[0m \u001b[0mself\u001b[0m\u001b[1;33m.\u001b[0m\u001b[0mcallbacks\u001b[0m\u001b[1;33m:\u001b[0m\u001b[1;33m\u001b[0m\u001b[0m\n\u001b[1;32m--> 286\u001b[1;33m       \u001b[0mcallback\u001b[0m\u001b[1;33m.\u001b[0m\u001b[0mon_epoch_begin\u001b[0m\u001b[1;33m(\u001b[0m\u001b[0mepoch\u001b[0m\u001b[1;33m,\u001b[0m \u001b[0mlogs\u001b[0m\u001b[1;33m)\u001b[0m\u001b[1;33m\u001b[0m\u001b[0m\n\u001b[0m\u001b[0;32m    287\u001b[0m     \u001b[0mself\u001b[0m\u001b[1;33m.\u001b[0m\u001b[0m_reset_batch_timing\u001b[0m\u001b[1;33m(\u001b[0m\u001b[1;33m)\u001b[0m\u001b[1;33m\u001b[0m\u001b[0m\n\u001b[0;32m    288\u001b[0m \u001b[1;33m\u001b[0m\u001b[0m\n",
      "\u001b[1;32m~\\anaconda3\\envs\\tf21\\lib\\site-packages\\tensorflow_core\\python\\keras\\callbacks.py\u001b[0m in \u001b[0;36mon_epoch_begin\u001b[1;34m(self, epoch, logs)\u001b[0m\n\u001b[0;32m   1383\u001b[0m       \u001b[0mlr\u001b[0m \u001b[1;33m=\u001b[0m \u001b[0mself\u001b[0m\u001b[1;33m.\u001b[0m\u001b[0mschedule\u001b[0m\u001b[1;33m(\u001b[0m\u001b[0mepoch\u001b[0m\u001b[1;33m)\u001b[0m\u001b[1;33m\u001b[0m\u001b[0m\n\u001b[0;32m   1384\u001b[0m     \u001b[1;32mif\u001b[0m \u001b[1;32mnot\u001b[0m \u001b[0misinstance\u001b[0m\u001b[1;33m(\u001b[0m\u001b[0mlr\u001b[0m\u001b[1;33m,\u001b[0m \u001b[1;33m(\u001b[0m\u001b[0mops\u001b[0m\u001b[1;33m.\u001b[0m\u001b[0mTensor\u001b[0m\u001b[1;33m,\u001b[0m \u001b[0mfloat\u001b[0m\u001b[1;33m,\u001b[0m \u001b[0mnp\u001b[0m\u001b[1;33m.\u001b[0m\u001b[0mfloat32\u001b[0m\u001b[1;33m,\u001b[0m \u001b[0mnp\u001b[0m\u001b[1;33m.\u001b[0m\u001b[0mfloat64\u001b[0m\u001b[1;33m)\u001b[0m\u001b[1;33m)\u001b[0m\u001b[1;33m:\u001b[0m\u001b[1;33m\u001b[0m\u001b[0m\n\u001b[1;32m-> 1385\u001b[1;33m       raise ValueError('The output of the \"schedule\" function '\n\u001b[0m\u001b[0;32m   1386\u001b[0m                        'should be float.')\n\u001b[0;32m   1387\u001b[0m     \u001b[1;32mif\u001b[0m \u001b[0misinstance\u001b[0m\u001b[1;33m(\u001b[0m\u001b[0mlr\u001b[0m\u001b[1;33m,\u001b[0m \u001b[0mops\u001b[0m\u001b[1;33m.\u001b[0m\u001b[0mTensor\u001b[0m\u001b[1;33m)\u001b[0m \u001b[1;32mand\u001b[0m \u001b[1;32mnot\u001b[0m \u001b[0mlr\u001b[0m\u001b[1;33m.\u001b[0m\u001b[0mdtype\u001b[0m\u001b[1;33m.\u001b[0m\u001b[0mis_floating\u001b[0m\u001b[1;33m:\u001b[0m\u001b[1;33m\u001b[0m\u001b[0m\n",
      "\u001b[1;31mValueError\u001b[0m: The output of the \"schedule\" function should be float."
     ]
    }
   ],
   "source": [
    "model.fit(train_x, train_y, batch_size=16, epochs=Epochs,callbacks=callbacks, validation_data=(val_x, val_y))\n"
   ]
  },
  {
   "cell_type": "code",
   "execution_count": null,
   "id": "2f5eced5",
   "metadata": {},
   "outputs": [],
   "source": []
  },
  {
   "cell_type": "code",
   "execution_count": null,
   "id": "8b0c7153",
   "metadata": {},
   "outputs": [],
   "source": []
  },
  {
   "cell_type": "code",
   "execution_count": null,
   "id": "fe6aa6e4",
   "metadata": {},
   "outputs": [],
   "source": []
  },
  {
   "cell_type": "code",
   "execution_count": 38,
   "id": "a58e52b4",
   "metadata": {},
   "outputs": [
    {
     "name": "stdout",
     "output_type": "stream",
     "text": [
      "1000/1000 [==============================] - 0s 35us/sample - loss: 13.0265 - categorical_accuracy: 0.1070\n"
     ]
    },
    {
     "data": {
      "text/plain": [
       "[13.026459930419922, 0.107]"
      ]
     },
     "execution_count": 38,
     "metadata": {},
     "output_type": "execute_result"
    }
   ],
   "source": [
    "# Model evaluation\n",
    "test_x = np.random.random((1000, 36))\n",
    "test_y = np.random.random((1000, 10))\n",
    "model.evaluate(test_x, test_y, batch_size=32)"
   ]
  },
  {
   "cell_type": "code",
   "execution_count": 39,
   "id": "66552f6e",
   "metadata": {},
   "outputs": [
    {
     "name": "stdout",
     "output_type": "stream",
     "text": [
      "[[0.20692551 0.12475058 0.08755362 ... 0.19164366 0.01151823 0.08980513]\n",
      " [0.11304864 0.06664471 0.15788448 ... 0.17731936 0.00805586 0.05986404]\n",
      " [0.10042936 0.08679244 0.06033625 ... 0.23686416 0.02294443 0.13470602]\n",
      " ...\n",
      " [0.17441499 0.05488211 0.03738982 ... 0.13900484 0.0136529  0.08624688]\n",
      " [0.1940296  0.05794618 0.10493337 ... 0.09160835 0.00847112 0.18218496]\n",
      " [0.11376817 0.11578567 0.08522402 ... 0.28571653 0.00785722 0.12786616]]\n"
     ]
    }
   ],
   "source": [
    "# Model prediction\n",
    "pre_x = np.random.random((10, 36))\n",
    "result = model.predict(test_x,)\n",
    "print(result)\n"
   ]
  },
  {
   "cell_type": "code",
   "execution_count": null,
   "id": "dbaca1ce",
   "metadata": {},
   "outputs": [],
   "source": []
  },
  {
   "cell_type": "code",
   "execution_count": 41,
   "id": "2bdc2264",
   "metadata": {},
   "outputs": [
    {
     "name": "stdout",
     "output_type": "stream",
     "text": [
      "Downloading data from https://storage.googleapis.com/tensorflow/tf-keras-datasets/mnist.npz\n",
      "11493376/11490434 [==============================] - 11s 1us/step\n",
      "5\n",
      "(60000, 28, 28) (60000,)\n",
      "(10000, 28, 28) (10000,)\n",
      "[0. 0. 0. 0. 0. 1. 0. 0. 0. 0.]\n"
     ]
    }
   ],
   "source": [
    "import os\n",
    "import tensorflow as tf\n",
    "from tensorflow import keras\n",
    "from tensorflow.keras import layers, optimizers, datasets\n",
    "from matplotlib import pyplot as plt\n",
    "import numpy as np\n",
    "(x_train_raw, y_train_raw), (x_test_raw, y_test_raw) = datasets.mnist.load_data() \n",
    "print(y_train_raw[0])\n",
    "print(x_train_raw.shape, y_train_raw.shape)\n",
    "print(x_test_raw.shape, y_test_raw.shape)\n",
    "# Convert the labels into one-hot codes.\n",
    "num_classes = 10\n",
    "y_train = keras.utils.to_categorical(y_train_raw, num_classes)\n",
    "y_test = keras.utils.to_categorical(y_test_raw, num_classes)\n",
    "print(y_train[0])"
   ]
  },
  {
   "cell_type": "code",
   "execution_count": 44,
   "id": "e4fe04a7",
   "metadata": {},
   "outputs": [
    {
     "data": {
      "image/png": "[encoded data removed]",
      "text/plain": [
       "<Figure size 432x288 with 9 Axes>"
      ]
     },
     "metadata": {
      "needs_background": "light"
     },
     "output_type": "display_data"
    }
   ],
   "source": [
    "plt.figure()\n",
    "for i in range(9):\n",
    "    plt.subplot(3,3,i+1)\n",
    "    plt.imshow(x_train_raw[i])\n",
    "    plt.axis('off')\n",
    "plt.show()\n"
   ]
  },
  {
   "cell_type": "code",
   "execution_count": 45,
   "id": "6c1abccc",
   "metadata": {},
   "outputs": [],
   "source": [
    "# Convert a 28 x 28 image to a 784 x 1 vector.\n",
    "x_train = x_train_raw.reshape(60000, 784)\n",
    "x_test = x_test_raw.reshape(10000, 784)"
   ]
  },
  {
   "cell_type": "code",
   "execution_count": 46,
   "id": "aba63198",
   "metadata": {},
   "outputs": [],
   "source": [
    "# Normalize image pixel values.\n",
    "x_train = x_train.astype('float32')/255\n",
    "x_test = x_test.astype('float32')/255"
   ]
  },
  {
   "cell_type": "code",
   "execution_count": 47,
   "id": "3316076d",
   "metadata": {},
   "outputs": [
    {
     "name": "stdout",
     "output_type": "stream",
     "text": [
      "Model: \"sequential_4\"\n",
      "_________________________________________________________________\n",
      "Layer (type)                 Output Shape              Param #   \n",
      "=================================================================\n",
      "dense_25 (Dense)             (None, 512)               401920    \n",
      "_________________________________________________________________\n",
      "dense_26 (Dense)             (None, 256)               131328    \n",
      "_________________________________________________________________\n",
      "dense_27 (Dense)             (None, 124)               31868     \n",
      "_________________________________________________________________\n",
      "dense_28 (Dense)             (None, 10)                1250      \n",
      "=================================================================\n",
      "Total params: 566,366\n",
      "Trainable params: 566,366\n",
      "Non-trainable params: 0\n",
      "_________________________________________________________________\n"
     ]
    }
   ],
   "source": [
    "model = keras.Sequential([ \n",
    " layers.Dense(512, activation='relu', input_dim = 784),\n",
    " layers.Dense(256, activation='relu'),\n",
    " layers.Dense(124, activation='relu'),\n",
    "layers.Dense(num_classes, activation='softmax')])\n",
    "model.summary()\n"
   ]
  },
  {
   "cell_type": "code",
   "execution_count": 48,
   "id": "014f15e4",
   "metadata": {},
   "outputs": [],
   "source": [
    "Optimizer = optimizers.Adam(0.001)\n",
    "model.compile(loss=keras.losses.categorical_crossentropy,\n",
    " optimizer=Optimizer,\n",
    " metrics=['accuracy'])"
   ]
  },
  {
   "cell_type": "code",
   "execution_count": 49,
   "id": "7673b4a5",
   "metadata": {},
   "outputs": [
    {
     "name": "stdout",
     "output_type": "stream",
     "text": [
      "Train on 60000 samples\n",
      "Epoch 1/10\n",
      "60000/60000 [==============================] - 5s 84us/sample - loss: 0.2285 - accuracy: 0.9322\n",
      "Epoch 2/10\n",
      "60000/60000 [==============================] - 4s 73us/sample - loss: 0.0852 - accuracy: 0.9738\n",
      "Epoch 3/10\n",
      "60000/60000 [==============================] - 4s 72us/sample - loss: 0.0542 - accuracy: 0.9828\n",
      "Epoch 4/10\n",
      "60000/60000 [==============================] - 4s 71us/sample - loss: 0.0417 - accuracy: 0.9866\n",
      "Epoch 5/10\n",
      "60000/60000 [==============================] - 4s 69us/sample - loss: 0.0311 - accuracy: 0.9897\n",
      "Epoch 6/10\n",
      "60000/60000 [==============================] - 4s 67us/sample - loss: 0.0259 - accuracy: 0.9917\n",
      "Epoch 7/10\n",
      "60000/60000 [==============================] - 4s 67us/sample - loss: 0.0220 - accuracy: 0.9928\n",
      "Epoch 8/10\n",
      "60000/60000 [==============================] - 4s 67us/sample - loss: 0.0206 - accuracy: 0.9932\n",
      "Epoch 9/10\n",
      "60000/60000 [==============================] - 4s 74us/sample - loss: 0.0165 - accuracy: 0.9947s - loss: 0.0\n",
      "Epoch 10/10\n",
      "60000/60000 [==============================] - 4s 66us/sample - loss: 0.0177 - accuracy: 0.9944\n"
     ]
    },
    {
     "data": {
      "text/plain": [
       "<tensorflow.python.keras.callbacks.History at 0x2845f6c8710>"
      ]
     },
     "execution_count": 49,
     "metadata": {},
     "output_type": "execute_result"
    }
   ],
   "source": [
    "# Fit the training data to the model by using the fit method.\n",
    "model.fit(x_train, y_train,\n",
    " batch_size=128,\n",
    " epochs=10,\n",
    " verbose=1)\n"
   ]
  },
  {
   "cell_type": "code",
   "execution_count": 50,
   "id": "4eaf77e5",
   "metadata": {},
   "outputs": [
    {
     "name": "stdout",
     "output_type": "stream",
     "text": [
      "Test loss: 0.10060911036527287\n",
      "Test accuracy: 0.9762\n"
     ]
    }
   ],
   "source": [
    "score = model.evaluate(x_test, y_test, verbose=0)\n",
    "print('Test loss:', score[0])\n",
    "print('Test accuracy:', score[1])"
   ]
  },
  {
   "cell_type": "code",
   "execution_count": 51,
   "id": "79670735",
   "metadata": {},
   "outputs": [],
   "source": [
    "logdir='./mnist_model'\n",
    "if not os.path.exists(logdir):\n",
    "    os.mkdir(logdir)\n",
    "model.save(logdir+'/final_DNN_model.h5')\n"
   ]
  },
  {
   "cell_type": "code",
   "execution_count": 52,
   "id": "39bbfb26",
   "metadata": {},
   "outputs": [],
   "source": [
    "import tensorflow as tf\n",
    "from tensorflow import keras\n",
    "import numpy as np\n"
   ]
  },
  {
   "cell_type": "code",
   "execution_count": 54,
   "id": "eb4cecb9",
   "metadata": {},
   "outputs": [],
   "source": [
    "model=keras.Sequential() # Create a network sequence.\n",
    "## Add the first convolutional layer and pooling layer.\n",
    "model.add(keras.layers.Conv2D(filters=32,kernel_size = 5,strides = (1,1),\n",
    " padding = 'same',activation = tf.nn.relu,input_shape = (28,28,1)))\n",
    "model.add(keras.layers.MaxPool2D(pool_size=(2,2), strides = (2,2), padding = 'valid'))\n",
    "## Add the second convolutional layer and pooling layer.\n",
    "model.add(keras.layers.Conv2D(filters=64,kernel_size = 3,strides = (1,1),padding = 'same',activation = tf.nn.relu))\n",
    "model.add(keras.layers.MaxPool2D(pool_size=(2,2), strides = (2,2), padding = 'valid'))\n",
    "## Add a dropout layer to reduce overfitting.\n",
    "model.add(keras.layers.Dropout(0.25))\n",
    "model.add(keras.layers.Flatten())\n",
    "## Add two fully connected layers.\n",
    "model.add(keras.layers.Dense(units=128,activation = tf.nn.relu))\n",
    "model.add(keras.layers.Dropout(0.5))\n",
    "model.add(keras.layers.Dense(units=10,activation = tf.nn.softmax))"
   ]
  },
  {
   "cell_type": "code",
   "execution_count": 55,
   "id": "09d625e7",
   "metadata": {},
   "outputs": [
    {
     "name": "stdout",
     "output_type": "stream",
     "text": [
      "Train on 60000 samples\n",
      "Epoch 1/5\n",
      "60000/60000 [==============================] - 62s 1ms/sample - loss: 0.2819 - accuracy: 0.9117\n",
      "Epoch 2/5\n",
      "60000/60000 [==============================] - 62s 1ms/sample - loss: 0.0961 - accuracy: 0.9719\n",
      "Epoch 3/5\n",
      "60000/60000 [==============================] - 63s 1ms/sample - loss: 0.0710 - accuracy: 0.9786\n",
      "Epoch 4/5\n",
      "60000/60000 [==============================] - 60s 993us/sample - loss: 0.0571 - accuracy: 0.9827\n",
      "Epoch 5/5\n",
      "60000/60000 [==============================] - 61s 1ms/sample - loss: 0.0507 - accuracy: 0.9846\n"
     ]
    },
    {
     "data": {
      "text/plain": [
       "<tensorflow.python.keras.callbacks.History at 0x2845fd7e8d0>"
      ]
     },
     "execution_count": 55,
     "metadata": {},
     "output_type": "execute_result"
    }
   ],
   "source": [
    "# Expand data dimensions to adapt to the CNN model.\n",
    "X_train=x_train.reshape(60000,28,28,1)\n",
    "X_test=x_test.reshape(10000,28,28,1)\n",
    "model.compile(optimizer=\"adam\",loss=\"categorical_crossentropy\",metrics=['accuracy']) \n",
    "model.fit(x=X_train,y=y_train,epochs=5,batch_size=128)\n"
   ]
  },
  {
   "cell_type": "code",
   "execution_count": 56,
   "id": "d47589ab",
   "metadata": {},
   "outputs": [
    {
     "name": "stdout",
     "output_type": "stream",
     "text": [
      "10000/10000 [==============================] - 3s 321us/sample - loss: 0.0253 - accuracy: 0.9919\n",
      "Test Accuracy 0.99\n"
     ]
    }
   ],
   "source": [
    "test_loss,test_acc=model.evaluate(x=X_test,y=y_test)\n",
    "print(\"Test Accuracy %.2f\"%test_acc)"
   ]
  },
  {
   "cell_type": "code",
   "execution_count": 57,
   "id": "e154f427",
   "metadata": {},
   "outputs": [],
   "source": [
    "ogdir='./mnist_model'\n",
    "if not os.path.exists(logdir):\n",
    "    os.mkdir(logdir)\n",
    "model.save(logdir+'/final_CNN_model.h5')"
   ]
  },
  {
   "cell_type": "code",
   "execution_count": null,
   "id": "5e7b5932",
   "metadata": {},
   "outputs": [],
   "source": []
  },
  {
   "cell_type": "code",
   "execution_count": 64,
   "id": "1d384613",
   "metadata": {},
   "outputs": [],
   "source": [
    "#Image Classification"
   ]
  },
  {
   "cell_type": "code",
   "execution_count": 65,
   "id": "d1b97ef7",
   "metadata": {},
   "outputs": [],
   "source": [
    "import tensorflow as tf\n",
    "from tensorflow import keras\n",
    "from tensorflow.keras import layers, optimizers, datasets, Sequential\n",
    "from tensorflow.keras.layers import Conv2D,Activation,MaxPooling2D,Dropout,Flatten,Dense\n",
    "import os\n",
    "import numpy as np\n",
    "import matplotlib.pyplot as plt"
   ]
  },
  {
   "cell_type": "code",
   "execution_count": 66,
   "id": "e0c71d6f",
   "metadata": {},
   "outputs": [
    {
     "name": "stdout",
     "output_type": "stream",
     "text": [
      "Downloading data from https://www.cs.toronto.edu/~kriz/cifar-10-python.tar.gz\n",
      "170500096/170498071 [==============================] - 167s 1us/step\n",
      "(50000, 32, 32, 3) (50000, 1) (10000, 32, 32, 3) (10000, 1)\n",
      "[6]\n"
     ]
    },
    {
     "data": {
      "text/plain": [
       "array([6], dtype=uint8)"
      ]
     },
     "execution_count": 66,
     "metadata": {},
     "output_type": "execute_result"
    }
   ],
   "source": [
    "# Download the dataset.\n",
    "(x_train,y_train), (x_test, y_test) = datasets.cifar10.load_data()\n",
    "# Print the dataset size.\n",
    "print(x_train.shape, y_train.shape, x_test.shape, y_test.shape)\n",
    "print(y_train[0])\n",
    "# Convert the labels.\n",
    "num_classes = 10\n",
    "y_train_onehot = keras.utils.to_categorical(y_train, num_classes)\n",
    "y_test_onehot = keras.utils.to_categorical(y_test, num_classes)\n",
    "y_train[0]"
   ]
  },
  {
   "cell_type": "code",
   "execution_count": 67,
   "id": "dbfc2022",
   "metadata": {},
   "outputs": [
    {
     "data": {
      "image/png": "[encoded data removed]",
      "text/plain": [
       "<Figure size 432x288 with 9 Axes>"
      ]
     },
     "metadata": {
      "needs_background": "light"
     },
     "output_type": "display_data"
    }
   ],
   "source": [
    "# Generate an image label list.\n",
    "category_dict = {0:'airplane',1:'automobile',2:'bird',3:'cat',4:'deer',5:'dog',\n",
    " 6:'frog',7:'horse',8:'ship',9:'truck'}\n",
    "# Display the first nine images and their labels.\n",
    "plt.figure()\n",
    "for i in range(9):\n",
    "    plt.subplot(3,3,i+1)\n",
    "    plt.imshow(x_train[i])\n",
    "    plt.ylabel(category_dict[y_train[i][0]])\n",
    "plt.show()"
   ]
  },
  {
   "cell_type": "code",
   "execution_count": 68,
   "id": "4e8029a9",
   "metadata": {},
   "outputs": [],
   "source": [
    "# Pixel normalization\n",
    "x_train = x_train.astype('float32')/255\n",
    "x_test = x_test.astype('float32')/255"
   ]
  },
  {
   "cell_type": "code",
   "execution_count": 70,
   "id": "2e6da89b",
   "metadata": {},
   "outputs": [
    {
     "name": "stdout",
     "output_type": "stream",
     "text": [
      "Model: \"sequential_7\"\n",
      "_________________________________________________________________\n",
      "Layer (type)                 Output Shape              Param #   \n",
      "=================================================================\n",
      "conv2d_5 (Conv2D)            (None, 32, 32, 32)        896       \n",
      "_________________________________________________________________\n",
      "activation (Activation)      (None, 32, 32, 32)        0         \n",
      "_________________________________________________________________\n",
      "conv2d_6 (Conv2D)            (None, 30, 30, 32)        9248      \n",
      "_________________________________________________________________\n",
      "activation_1 (Activation)    (None, 30, 30, 32)        0         \n",
      "_________________________________________________________________\n",
      "max_pooling2d_4 (MaxPooling2 (None, 29, 29, 32)        0         \n",
      "_________________________________________________________________\n",
      "conv2d_7 (Conv2D)            (None, 29, 29, 64)        18496     \n",
      "_________________________________________________________________\n",
      "activation_2 (Activation)    (None, 29, 29, 64)        0         \n",
      "_________________________________________________________________\n",
      "conv2d_8 (Conv2D)            (None, 27, 27, 64)        36928     \n",
      "_________________________________________________________________\n",
      "activation_3 (Activation)    (None, 27, 27, 64)        0         \n",
      "_________________________________________________________________\n",
      "max_pooling2d_5 (MaxPooling2 (None, 13, 13, 64)        0         \n",
      "_________________________________________________________________\n",
      "flatten_1 (Flatten)          (None, 10816)             0         \n",
      "_________________________________________________________________\n",
      "dense_31 (Dense)             (None, 128)               1384576   \n",
      "_________________________________________________________________\n",
      "activation_4 (Activation)    (None, 128)               0         \n",
      "_________________________________________________________________\n",
      "dropout_2 (Dropout)          (None, 128)               0         \n",
      "_________________________________________________________________\n",
      "dense_32 (Dense)             (None, 10)                1290      \n",
      "_________________________________________________________________\n",
      "activation_5 (Activation)    (None, 10)                0         \n",
      "=================================================================\n",
      "Total params: 1,451,434\n",
      "Trainable params: 1,451,434\n",
      "Non-trainable params: 0\n",
      "_________________________________________________________________\n"
     ]
    }
   ],
   "source": [
    "def CNN_classification_model(input_size = x_train.shape[1:]):\n",
    "    model = Sequential() \n",
    "    '''Conv1 with 32 3*3 kernels \n",
    " padding=\"same\": it applies zero padding to the input image so that the input image gets fully covered by \n",
    "the filter and specified stride.\n",
    " It is called SAME because, for stride 1, the output will be the same as the input.\n",
    " output: 32*32*32'''\n",
    "    model.add(Conv2D(32, (3, 3), padding='same', \n",
    "    input_shape=input_size)) \n",
    "    model.add(Activation('relu')) \n",
    "    #Conv2\n",
    "    model.add(Conv2D(32, (3, 3))) \n",
    "    model.add(Activation('relu')) \n",
    "    model.add(MaxPooling2D(pool_size=(2, 2),strides =1))\n",
    "    # The second module\n",
    "    model.add(Conv2D(64, (3, 3), padding='same')) \n",
    "    model.add(Activation('relu')) \n",
    "    model.add(Conv2D(64, (3, 3))) \n",
    "    model.add(Activation('relu')) \n",
    "    model.add(MaxPooling2D(pool_size=(2, 2)))\n",
    "# Perform flattening before connecting to the fully connected network.\n",
    "    model.add(Flatten()) \n",
    "    model.add(Dense(128)) \n",
    "    model.add(Activation('relu')) \n",
    " # The dropout layer parameter value ranges from 0 to 1.\n",
    "    model.add(Dropout(0.25))\n",
    "    model.add(Dense(num_classes))\n",
    "    model.add(Activation('softmax')) \n",
    "    opt = keras.optimizers.Adam(lr=0.0001)\n",
    "    model.compile(loss='sparse_categorical_crossentropy', optimizer=opt, metrics=['accuracy']) \n",
    "    return model\n",
    "\n",
    "\n",
    "model=CNN_classification_model()\n",
    "model.summary()\n"
   ]
  },
  {
   "cell_type": "code",
   "execution_count": null,
   "id": "f000bad0",
   "metadata": {},
   "outputs": [],
   "source": []
  },
  {
   "cell_type": "code",
   "execution_count": null,
   "id": "7df1f219",
   "metadata": {},
   "outputs": [
    {
     "name": "stdout",
     "output_type": "stream",
     "text": [
      "Train on 50000 samples\n",
      "Epoch 1/10\n",
      "49984/50000 [============================>.] - ETA: 0s - loss: 1.6359 - accuracy: 0.4121\n",
      "Epoch 00001: loss improved from inf to 1.63588, saving model to final_cifar10.h5\n",
      "50000/50000 [==============================] - 377s 8ms/sample - loss: 1.6359 - accuracy: 0.4121\n",
      "Epoch 2/10\n",
      "49984/50000 [============================>.] - ETA: 0s - loss: 1.2953 - accuracy: 0.5389\n",
      "Epoch 00002: loss improved from 1.63588 to 1.29545, saving model to final_cifar10.h5\n",
      "50000/50000 [==============================] - 380s 8ms/sample - loss: 1.2955 - accuracy: 0.5388\n",
      "Epoch 3/10\n",
      "49984/50000 [============================>.] - ETA: 0s - loss: 1.1499 - accuracy: 0.5945\n",
      "Epoch 00003: loss improved from 1.29545 to 1.14970, saving model to final_cifar10.h5\n",
      "50000/50000 [==============================] - 377s 8ms/sample - loss: 1.1497 - accuracy: 0.5946\n",
      "Epoch 4/10\n",
      "49984/50000 [============================>.] - ETA: 0s - loss: 1.0458 - accuracy: 0.6332\n",
      "Epoch 00004: loss improved from 1.14970 to 1.04572, saving model to final_cifar10.h5\n",
      "50000/50000 [==============================] - 378s 8ms/sample - loss: 1.0457 - accuracy: 0.6332\n",
      "Epoch 5/10\n",
      "23168/50000 [============>.................] - ETA: 3:24 - loss: 0.9640 - accuracy: 0.6631"
     ]
    }
   ],
   "source": [
    "from tensorflow.keras.callbacks import ModelCheckpoint\n",
    "model_name = \"final_cifar10.h5\"\n",
    "model_checkpoint = ModelCheckpoint(model_name, monitor='loss',verbose=1, save_best_only=True)\n",
    "# Load the pre-trained model.\n",
    "trained_weights_path = 'cifar10_weights.h5'\n",
    "if os.path.exists(trained_weights_path):\n",
    " model.load_weights(trained_weights_path, by_name =True)\n",
    "# Training\n",
    "model.fit(x_train,y_train, batch_size=32, epochs=10,callbacks = [model_checkpoint],verbose=1)"
   ]
  },
  {
   "cell_type": "code",
   "execution_count": null,
   "id": "3e608f3d",
   "metadata": {},
   "outputs": [],
   "source": []
  },
  {
   "cell_type": "code",
   "execution_count": null,
   "id": "1e4a38d2",
   "metadata": {},
   "outputs": [],
   "source": [
    "new_model = CNN_classification_model()\n",
    "new_model.load_weights('final_cifar10.h5')\n",
    "model.evaluate(x_test, y_test, verbose=1)\n"
   ]
  },
  {
   "cell_type": "code",
   "execution_count": null,
   "id": "6d35a5a6",
   "metadata": {},
   "outputs": [],
   "source": [
    "# Output the possibility of each class.\n",
    "new_model.predict(x_test[0:1])"
   ]
  },
  {
   "cell_type": "code",
   "execution_count": null,
   "id": "b216b5cf",
   "metadata": {},
   "outputs": [],
   "source": [
    "# Output the prediction result.\n",
    "new_model.predict_classes(x_test[0:1])\n"
   ]
  },
  {
   "cell_type": "code",
   "execution_count": null,
   "id": "7652aac2",
   "metadata": {},
   "outputs": [],
   "source": [
    "pred_list = []\n",
    "plt.figure()\n",
    "for i in range(0,4):\n",
    "    plt.subplot(2,2,i+1)\n",
    "    plt.imshow(x_test[i])\n",
    "    pred = new_model.predict_classes(x_test[0:10])\n",
    "    pred_list.append(pred)\n",
    "    plt.title(\"pred:\"+category_dict[pred[i]]+\" actual:\"+ category_dict[y_test[i][0]])\n",
    "    plt.axis('off')\n",
    "plt.show()\n"
   ]
  },
  {
   "cell_type": "code",
   "execution_count": null,
   "id": "e5a71a05",
   "metadata": {},
   "outputs": [],
   "source": []
  }
 ],
 "metadata": {
  "kernelspec": {
   "display_name": "Python 3",
   "language": "python",
   "name": "python3"
  },
  "language_info": {
   "codemirror_mode": {
    "name": "ipython",
    "version": 3
   },
   "file_extension": ".py",
   "mimetype": "text/x-python",
   "name": "python",
   "nbconvert_exporter": "python",
   "pygments_lexer": "ipython3",
   "version": "3.6.5"
  }
 },
 "nbformat": 4,
 "nbformat_minor": 5
}
