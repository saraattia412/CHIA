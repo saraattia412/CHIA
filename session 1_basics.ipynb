{
 "cells": [
  {
   "cell_type": "code",
   "execution_count": 1,
   "id": "4acf668d",
   "metadata": {},
   "outputs": [],
   "source": [
    "#python programming basics"
   ]
  },
  {
   "cell_type": "code",
   "execution_count": 4,
   "id": "8460da1e",
   "metadata": {},
   "outputs": [],
   "source": [
    "#list===>"
   ]
  },
  {
   "cell_type": "code",
   "execution_count": 5,
   "id": "b741df8e",
   "metadata": {},
   "outputs": [
    {
     "data": {
      "text/plain": [
       "[1, 2, 3, [4, 5]]"
      ]
     },
     "execution_count": 5,
     "metadata": {},
     "output_type": "execute_result"
    }
   ],
   "source": [
    "x=[1,2,3]#difference between append && extend\n",
    "y=[4,5]\n",
    "x.append(y)#add list as only item\n",
    "x"
   ]
  },
  {
   "cell_type": "code",
   "execution_count": 6,
   "id": "234f4d8b",
   "metadata": {},
   "outputs": [
    {
     "data": {
      "text/plain": [
       "[1, 2, 3, 4, 5]"
      ]
     },
     "execution_count": 6,
     "metadata": {},
     "output_type": "execute_result"
    }
   ],
   "source": [
    "x=[1,2,3]\n",
    "y=[4,5]\n",
    "x.extend(y)#add list as more item ===> nomber of item equal number items of list\n",
    "x"
   ]
  },
  {
   "cell_type": "code",
   "execution_count": 7,
   "id": "0318476a",
   "metadata": {},
   "outputs": [],
   "source": [
    "#empty list"
   ]
  },
  {
   "cell_type": "code",
   "execution_count": 9,
   "id": "dbd97431",
   "metadata": {},
   "outputs": [
    {
     "name": "stdout",
     "output_type": "stream",
     "text": [
      "empty list\n"
     ]
    }
   ],
   "source": [
    "items=[]\n",
    "if len(items)==0:\n",
    "    print('empty list')"
   ]
  },
  {
   "cell_type": "code",
   "execution_count": 10,
   "id": "ce1fe6b1",
   "metadata": {},
   "outputs": [
    {
     "name": "stdout",
     "output_type": "stream",
     "text": [
      "empty\n"
     ]
    }
   ],
   "source": [
    "#or\n",
    "if items==[]:\n",
    "    print('empty')"
   ]
  },
  {
   "cell_type": "code",
   "execution_count": 11,
   "id": "e6365c7f",
   "metadata": {},
   "outputs": [],
   "source": [
    "#copy list"
   ]
  },
  {
   "cell_type": "code",
   "execution_count": 12,
   "id": "0c0a373e",
   "metadata": {},
   "outputs": [
    {
     "data": {
      "text/plain": [
       "['sara attia', 21, 'hager', 27, 'essam', 25]"
      ]
     },
     "execution_count": 12,
     "metadata": {},
     "output_type": "execute_result"
    }
   ],
   "source": [
    "#method one\n",
    "l1=['sara attia',21,'hager',27,'essam',25]\n",
    "l2=l1[:]\n",
    "l2"
   ]
  },
  {
   "cell_type": "code",
   "execution_count": 13,
   "id": "8f1bdfd3",
   "metadata": {},
   "outputs": [
    {
     "data": {
      "text/plain": [
       "['sara attia', 21, 'hager', 27, 'essam', 25]"
      ]
     },
     "execution_count": 13,
     "metadata": {},
     "output_type": "execute_result"
    }
   ],
   "source": [
    "#method two\n",
    "l1=['sara attia',21,'hager',27,'essam',25]\n",
    "l3=list(l1)\n",
    "l3"
   ]
  },
  {
   "cell_type": "code",
   "execution_count": 20,
   "id": "e4325b86",
   "metadata": {},
   "outputs": [
    {
     "data": {
      "text/plain": [
       "['sara attia', 21, 'hager', 27, 'essam', 25]"
      ]
     },
     "execution_count": 20,
     "metadata": {},
     "output_type": "execute_result"
    }
   ],
   "source": [
    "#method three\n",
    "import copy\n",
    "l1=['sara attia',21,'hager',27,'essam',25]\n",
    "l4=copy.copy(l1)\n",
    "l4"
   ]
  },
  {
   "cell_type": "code",
   "execution_count": 21,
   "id": "a0aa781b",
   "metadata": {},
   "outputs": [
    {
     "data": {
      "text/plain": [
       "['sara attia', 21, 'hager', 27, 'essam', 25]"
      ]
     },
     "execution_count": 21,
     "metadata": {},
     "output_type": "execute_result"
    }
   ],
   "source": [
    "l1=['sara attia',21,'hager',27,'essam',25]\n",
    "l5=copy.deepcopy(l1)\n",
    "l5"
   ]
  },
  {
   "cell_type": "code",
   "execution_count": 22,
   "id": "0af89837",
   "metadata": {},
   "outputs": [],
   "source": [
    "#get last element"
   ]
  },
  {
   "cell_type": "code",
   "execution_count": 26,
   "id": "5ce82cb5",
   "metadata": {},
   "outputs": [
    {
     "data": {
      "text/plain": [
       "25"
      ]
     },
     "execution_count": 26,
     "metadata": {},
     "output_type": "execute_result"
    }
   ],
   "source": [
    "l1[-1]"
   ]
  },
  {
   "cell_type": "code",
   "execution_count": 27,
   "id": "c703baff",
   "metadata": {},
   "outputs": [],
   "source": [
    "#tuple"
   ]
  },
  {
   "cell_type": "code",
   "execution_count": 28,
   "id": "b14bcbeb",
   "metadata": {},
   "outputs": [
    {
     "name": "stdout",
     "output_type": "stream",
     "text": [
      "<class 'tuple'>\n"
     ]
    }
   ],
   "source": [
    "a=(1,)\n",
    "print(type(a))"
   ]
  },
  {
   "cell_type": "code",
   "execution_count": 29,
   "id": "b7208cc2",
   "metadata": {},
   "outputs": [
    {
     "data": {
      "text/plain": [
       "int"
      ]
     },
     "execution_count": 29,
     "metadata": {},
     "output_type": "execute_result"
    }
   ],
   "source": [
    "x=1\n",
    "type(x)"
   ]
  },
  {
   "cell_type": "code",
   "execution_count": 30,
   "id": "697122af",
   "metadata": {},
   "outputs": [
    {
     "ename": "AttributeError",
     "evalue": "'tuple' object has no attribute 'append'",
     "output_type": "error",
     "traceback": [
      "\u001b[1;31m---------------------------------------------------------------------------\u001b[0m",
      "\u001b[1;31mAttributeError\u001b[0m                            Traceback (most recent call last)",
      "\u001b[1;32m<ipython-input-30-fcbc3288b426>\u001b[0m in \u001b[0;36m<module>\u001b[1;34m\u001b[0m\n\u001b[1;32m----> 1\u001b[1;33m \u001b[0ma\u001b[0m\u001b[1;33m.\u001b[0m\u001b[0mappend\u001b[0m\u001b[1;33m(\u001b[0m\u001b[1;36m2\u001b[0m\u001b[1;33m)\u001b[0m\u001b[1;33m\u001b[0m\u001b[1;33m\u001b[0m\u001b[0m\n\u001b[0m",
      "\u001b[1;31mAttributeError\u001b[0m: 'tuple' object has no attribute 'append'"
     ]
    }
   ],
   "source": [
    "a.append(2)#error---->>tuple not change"
   ]
  },
  {
   "cell_type": "code",
   "execution_count": 31,
   "id": "ca20c825",
   "metadata": {},
   "outputs": [],
   "source": [
    "#dictionary"
   ]
  },
  {
   "cell_type": "code",
   "execution_count": 36,
   "id": "c37d05b8",
   "metadata": {},
   "outputs": [
    {
     "data": {
      "text/plain": [
       "{'name': 'age', 'sara': 21}"
      ]
     },
     "execution_count": 36,
     "metadata": {},
     "output_type": "execute_result"
    }
   ],
   "source": [
    "dict1={'name':'age','sara':21}\n",
    "dict1"
   ]
  },
  {
   "cell_type": "code",
   "execution_count": 37,
   "id": "8558698e",
   "metadata": {},
   "outputs": [
    {
     "data": {
      "text/plain": [
       "{'one': 1, 'two': 2}"
      ]
     },
     "execution_count": 37,
     "metadata": {},
     "output_type": "execute_result"
    }
   ],
   "source": [
    "dict(one=1,two=2)"
   ]
  },
  {
   "cell_type": "code",
   "execution_count": 38,
   "id": "a2fd1817",
   "metadata": {},
   "outputs": [
    {
     "ename": "AttributeError",
     "evalue": "type object 'dict' has no attribute 'zip'",
     "output_type": "error",
     "traceback": [
      "\u001b[1;31m---------------------------------------------------------------------------\u001b[0m",
      "\u001b[1;31mAttributeError\u001b[0m                            Traceback (most recent call last)",
      "\u001b[1;32m<ipython-input-38-bf2fc3e689c3>\u001b[0m in \u001b[0;36m<module>\u001b[1;34m\u001b[0m\n\u001b[1;32m----> 1\u001b[1;33m \u001b[0mdict\u001b[0m\u001b[1;33m.\u001b[0m\u001b[0mzip\u001b[0m\u001b[1;33m(\u001b[0m\u001b[1;33m[\u001b[0m\u001b[1;34m'one'\u001b[0m\u001b[1;33m,\u001b[0m\u001b[1;34m'two'\u001b[0m\u001b[1;33m]\u001b[0m\u001b[1;33m,\u001b[0m\u001b[1;33m[\u001b[0m\u001b[1;36m1\u001b[0m\u001b[1;33m,\u001b[0m\u001b[1;36m2\u001b[0m\u001b[1;33m]\u001b[0m\u001b[1;33m)\u001b[0m\u001b[1;33m\u001b[0m\u001b[1;33m\u001b[0m\u001b[0m\n\u001b[0m",
      "\u001b[1;31mAttributeError\u001b[0m: type object 'dict' has no attribute 'zip'"
     ]
    }
   ],
   "source": [
    "dict.zip(['one','two'],[1,2])"
   ]
  },
  {
   "cell_type": "code",
   "execution_count": null,
   "id": "c6072e39",
   "metadata": {},
   "outputs": [],
   "source": []
  },
  {
   "cell_type": "code",
   "execution_count": null,
   "id": "2a736c02",
   "metadata": {},
   "outputs": [],
   "source": []
  }
 ],
 "metadata": {
  "kernelspec": {
   "display_name": "Python 3",
   "language": "python",
   "name": "python3"
  },
  "language_info": {
   "codemirror_mode": {
    "name": "ipython",
    "version": 3
   },
   "file_extension": ".py",
   "mimetype": "text/x-python",
   "name": "python",
   "nbconvert_exporter": "python",
   "pygments_lexer": "ipython3",
   "version": "3.8.8"
  }
 },
 "nbformat": 4,
 "nbformat_minor": 5
}
